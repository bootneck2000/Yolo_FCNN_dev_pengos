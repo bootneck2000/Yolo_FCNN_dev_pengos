{
  "cells": [
    {
      "cell_type": "markdown",
      "metadata": {
        "id": "view-in-github",
        "colab_type": "text"
      },
      "source": [
        "<a href=\"https://colab.research.google.com/github/bootneck2000/Yolo_FCNN_dev_pengos/blob/main/Faster_RCNN_test_pengo.ipynb\" target=\"_parent\"><img src=\"https://colab.research.google.com/assets/colab-badge.svg\" alt=\"Open In Colab\"/></a>"
      ]
    },
    {
      "cell_type": "code",
      "execution_count": null,
      "id": "4aa04e0b-9828-4d85-be09-2146a07911d5",
      "metadata": {
        "id": "4aa04e0b-9828-4d85-be09-2146a07911d5"
      },
      "outputs": [],
      "source": [
        "import torch\n",
        "from torchvision.transforms import functional as F\n",
        "import matplotlib.pyplot as plt\n",
        "import numpy as np\n",
        "from PIL import Image\n",
        "import os\n",
        "\n",
        "# --- Helper: Visualization ---\n",
        "def plot_image_with_boxes(img, boxes, labels=None, scores=None, class_dict=None, score_threshold=0.5):\n",
        "    plt.figure(figsize=(8,8))\n",
        "    img = np.array(img).copy()\n",
        "    for i, box in enumerate(boxes):\n",
        "        if scores is not None and scores[i] < score_threshold:\n",
        "            continue\n",
        "        xmin, ymin, xmax, ymax = [int(x) for x in box]\n",
        "        color = (255,0,0)\n",
        "        img = cv2.rectangle(img, (xmin, ymin), (xmax, ymax), color, 2)\n",
        "        label = \"\"\n",
        "        if labels is not None and class_dict is not None:\n",
        "            label = list(class_dict.keys())[list(class_dict.values()).index(labels[i]-1)]  # -1 for background\n",
        "        if scores is not None:\n",
        "            label += f\" {scores[i]:.2f}\"\n",
        "        if label:\n",
        "            cv2.putText(img, label, (xmin, ymin-10), cv2.FONT_HERSHEY_SIMPLEX, 0.7, color, 2)\n",
        "    plt.axis('off')\n",
        "    plt.imshow(img)\n",
        "    plt.show()\n",
        "\n",
        "# --- Load the trained model ---\n",
        "def get_fasterrcnn_model(num_classes):\n",
        "    import torchvision\n",
        "    from torchvision.models.detection.faster_rcnn import FastRCNNPredictor\n",
        "    model = torchvision.models.detection.fasterrcnn_resnet50_fpn(weights=None)\n",
        "    in_features = model.roi_heads.box_predictor.cls_score.in_features\n",
        "    model.roi_heads.box_predictor = FastRCNNPredictor(in_features, num_classes)\n",
        "    return model\n",
        "\n",
        "# --- Load dataset for test split ---\n",
        "class RoboflowYolo8Dataset(torch.utils.data.Dataset):\n",
        "    def __init__(self, data_dir, split='test', transforms=None):\n",
        "        self.data_dir = data_dir\n",
        "        self.split = split\n",
        "        self.transforms = transforms\n",
        "\n",
        "        self.images_dir = os.path.join(self.data_dir, self.split, \"images\")\n",
        "        self.image_files = [f for f in os.listdir(self.images_dir) if f.lower().endswith(('.jpg', '.jpeg', '.png'))]\n",
        "\n",
        "        self.class_dict = self._parse_class_names()\n",
        "\n",
        "    def _parse_class_names(self):\n",
        "        yaml_path = os.path.join(self.data_dir, \"data.yaml\")\n",
        "        import yaml\n",
        "        with open(yaml_path, \"r\") as f:\n",
        "            ydata = yaml.safe_load(f)\n",
        "        names = ydata.get(\"names\") or ydata.get(\"nc\")\n",
        "        if isinstance(names, dict):\n",
        "            names = [names[k] for k in sorted(names)]\n",
        "        return {name: idx for idx, name in enumerate(names)}\n",
        "\n",
        "    def __len__(self):\n",
        "        return len(self.image_files)\n",
        "\n",
        "    def __getitem__(self, idx):\n",
        "        img_name = self.image_files[idx]\n",
        "        img_path = os.path.join(self.images_dir, img_name)\n",
        "        image = Image.open(img_path).convert(\"RGB\")\n",
        "        if self.transforms:\n",
        "            image = self.transforms(image)\n",
        "        else:\n",
        "            image = F.to_tensor(image)\n",
        "        return image, img_name\n",
        "\n",
        "# --- Inference ---\n",
        "import cv2\n",
        "\n",
        "# Set the DATASET_DIR to the same as in training, and the test split (change if needed)\n",
        "DATASET_DIR = \"roboflow_dataset/YourProjectName-1\"  # Update if your test set is in a nested folder\n",
        "TEST_SPLIT = \"test\"  # Change if your folder is named differently\n",
        "\n",
        "# Load test dataset\n",
        "test_dataset = RoboflowYolo8Dataset(DATASET_DIR, split=TEST_SPLIT)\n",
        "class_dict = test_dataset.class_dict\n",
        "num_classes = len(class_dict) + 1\n",
        "\n",
        "# Load model\n",
        "device = torch.device('cuda' if torch.cuda.is_available() else 'cpu')\n",
        "model = get_fasterrcnn_model(num_classes)\n",
        "model.load_state_dict(torch.load(\"fasterrcnn_roboflow_yolov8.pth\", map_location=device))\n",
        "model.eval()\n",
        "model.to(device)\n",
        "\n",
        "# Run inference on test images and display predictions\n",
        "for idx in range(len(test_dataset)):\n",
        "    image, img_name = test_dataset[idx]\n",
        "    image_tensor = image.to(device)\n",
        "    with torch.no_grad():\n",
        "        prediction = model([image_tensor])[0]\n",
        "    boxes = prediction['boxes'].cpu().numpy()\n",
        "    labels = prediction['labels'].cpu().numpy()\n",
        "    scores = prediction['scores'].cpu().numpy()\n",
        "    # Visualize\n",
        "    pil_img = F.to_pil_image(image)\n",
        "    plot_image_with_boxes(pil_img, boxes, labels, scores, class_dict, score_threshold=0.5)\n",
        "    print(f\"Predictions for: {img_name}\")\n",
        "    # Show only first N if you want\n",
        "    # if idx > 9: break"
      ]
    },
    {
      "cell_type": "code",
      "execution_count": null,
      "id": "06fa2865-9bea-4c8a-aa63-7978d8b9fa7c",
      "metadata": {
        "id": "06fa2865-9bea-4c8a-aa63-7978d8b9fa7c"
      },
      "outputs": [],
      "source": []
    },
    {
      "cell_type": "code",
      "execution_count": null,
      "id": "68f22052-7632-4c9d-a30f-f0a5cffe6c03",
      "metadata": {
        "id": "68f22052-7632-4c9d-a30f-f0a5cffe6c03",
        "outputId": "8ea2fc28-37c7-40c5-f077-bc85e7ecd646"
      },
      "outputs": [
        {
          "name": "stdout",
          "output_type": "stream",
          "text": [
            "roboflow_dataset\n",
            "roboflow_dataset/test\n",
            "roboflow_dataset/test/images\n",
            "roboflow_dataset/test/labels\n",
            "roboflow_dataset/train\n",
            "roboflow_dataset/train/images\n",
            "roboflow_dataset/train/labels\n"
          ]
        }
      ],
      "source": [
        "import os\n",
        "for root, dirs, files in os.walk(\"roboflow_dataset\"):\n",
        "    print(root)"
      ]
    },
    {
      "cell_type": "code",
      "execution_count": null,
      "id": "e6b2795e-56e4-4cce-8f24-8a004e7ce78f",
      "metadata": {
        "id": "e6b2795e-56e4-4cce-8f24-8a004e7ce78f"
      },
      "outputs": [],
      "source": []
    }
  ],
  "metadata": {
    "kernelspec": {
      "display_name": "Python 3 (ipykernel)",
      "language": "python",
      "name": "python3"
    },
    "language_info": {
      "codemirror_mode": {
        "name": "ipython",
        "version": 3
      },
      "file_extension": ".py",
      "mimetype": "text/x-python",
      "name": "python",
      "nbconvert_exporter": "python",
      "pygments_lexer": "ipython3",
      "version": "3.12.6"
    },
    "colab": {
      "provenance": [],
      "include_colab_link": true
    }
  },
  "nbformat": 4,
  "nbformat_minor": 5
}